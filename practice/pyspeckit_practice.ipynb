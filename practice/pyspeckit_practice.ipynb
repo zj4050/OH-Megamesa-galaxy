{
 "cells": [
  {
   "cell_type": "code",
   "execution_count": 6,
   "metadata": {},
   "outputs": [],
   "source": [
    "import pyspeckit"
   ]
  },
  {
   "cell_type": "markdown",
   "metadata": {},
   "source": [
    "Rest wavelengths of the lines we are fitting - use as initial guesses."
   ]
  },
  {
   "cell_type": "code",
   "execution_count": 7,
   "metadata": {},
   "outputs": [],
   "source": [
    "NIIa = 6549.86\n",
    "NIIb = 6585.27\n",
    "Halpha = 6564.614\n",
    "SIIa = 6718.29\n",
    "SIIb = 6732.68"
   ]
  },
  {
   "cell_type": "markdown",
   "metadata": {},
   "source": [
    "Initialize spectrum object and plot region surrounding Halpha-[NII] complex."
   ]
  },
  {
   "cell_type": "code",
   "execution_count": 8,
   "metadata": {},
   "outputs": [
    {
     "data": {
      "image/png": "[encoded data removed]",
      "text/plain": [
       "<Figure size 640x480 with 1 Axes>"
      ]
     },
     "metadata": {},
     "output_type": "display_data"
    }
   ],
   "source": [
    "specfile = '/Users/kamiori/Desktop/Python/Research Project/OH Megamesa/line_fitting/sample_sdss.txt'\n",
    "spec = pyspeckit.Spectrum(specfile, errorcol=2)\n",
    "spec.plotter(xmin = 6450, xmax = 6775, ymin = 0, ymax = 150)"
   ]
  },
  {
   "cell_type": "markdown",
   "metadata": {},
   "source": [
    "We fit the [NII] and [SII] doublets, and allow two components for Halpha.\n",
    "\n",
    "The widths of all narrow lines are tied to the widths of [SII]."
   ]
  },
  {
   "cell_type": "markdown",
   "metadata": {},
   "source": [
    "guesses: list or 'moments'\n",
    "\n",
    "         A list of guesses. Guesses must have length = n * number of parameters in model. Guesses are 'required' for multifit fits (there is no automated guessing for most models)\n",
    "\n",
    "Example:        \n",
    "\n",
    "        for single-fit gaussian， guesses = [height, amplitude, center, width]\n",
    "\n",
    "        for multi-fit gaussian, it is [amplitude, center, width].\n",
    "\n",
    "You can also pass the keyword string 'moments' to have the moments be used to automatically determine the guesses for a \"single\" peak."
   ]
  },
  {
   "cell_type": "code",
   "execution_count": 11,
   "metadata": {},
   "outputs": [],
   "source": [
    "guesses = [50, NIIa, 5, 100, Halpha, 5, 50, Halpha, 50, 50, NIIb, 5, 20, SIIa, 5, 20, SIIb, 5]\n",
    "\n",
    "tied = ['', '', 'p[17]', '', '', 'p[17]', '', 'p[4]', '', '3 * p[0]', '', 'p[17]', '', '', \n",
    "        'p[17]', '', '', '']\n"
   ]
  },
  {
   "cell_type": "markdown",
   "metadata": {},
   "source": [
    "Actually do the fit."
   ]
  },
  {
   "cell_type": "code",
   "execution_count": 12,
   "metadata": {},
   "outputs": [],
   "source": [
    "spec.specfit(guesses = guesses, tied = tied, annotate = False)\n",
    "spec.plotter.refresh()"
   ]
  },
  {
   "cell_type": "markdown",
   "metadata": {},
   "source": [
    "Let's use the measurements class to derive information about the emission lines. \n",
    "\n",
    "The galaxy's redshift and the flux normalization of the spectrum must be supplied to convert measured fluxes to the line luminosities. \n",
    "\n",
    "If the spectrum we loaded in FITS format, 'BUNITS' would be read and we would not need to supply 'fluxnorm'."
   ]
  },
  {
   "cell_type": "code",
   "execution_count": 13,
   "metadata": {},
   "outputs": [],
   "source": [
    "spec.measure(z = 0.05, fluxnorm = 1e-17)"
   ]
  },
  {
   "cell_type": "markdown",
   "metadata": {},
   "source": [
    "Now overplot positions of lines and annotate."
   ]
  },
  {
   "cell_type": "code",
   "execution_count": 14,
   "metadata": {},
   "outputs": [],
   "source": [
    "y = spec.plotter.ymax * 0.85  # Location of annotations in y"
   ]
  },
  {
   "cell_type": "code",
   "execution_count": 15,
   "metadata": {},
   "outputs": [],
   "source": [
    "for i, line in enumerate(spec.measurements.lines.keys()):\n",
    "\n",
    "    # If this line is not in our database of lines, don't try to annotate it \n",
    "    if line not in spec.speclines.optical.lines.keys(): continue\n",
    "\n",
    "    x = spec.measurements.lines[line]['modelpars'][1] # Location of the emission line\n",
    "    #Draw dashed line to mark fits position\n",
    "    spec.plotter.axis.plot([x]*2, [spec.plotter.ymin, spec.plotter.ymax], ls = '--', color = 'k')\n",
    "    # Label it \n",
    "    spec.plotter.axis.annotate(spec.speclines.optical.lines[line][-1], (x, y), \n",
    "                                rotation = 90, ha = 'right', va = 'center')\n",
    "    "
   ]
  },
  {
   "cell_type": "markdown",
   "metadata": {},
   "source": [
    "Make some nice axis labels."
   ]
  },
  {
   "cell_type": "code",
   "execution_count": 16,
   "metadata": {},
   "outputs": [
    {
     "data": {
      "text/plain": [
       "Text(38.347222222222214, 0.5, 'Flux $(10^{-17}) \\\\mathrm{erg/s/cm^2/\\\\AA}$')"
      ]
     },
     "execution_count": 16,
     "metadata": {},
     "output_type": "execute_result"
    }
   ],
   "source": [
    "spec.plotter.axis.set_xlabel(r'Wavelength $(\\AA)$')\n",
    "spec.plotter.axis.set_ylabel(r'Flux $(10^{-17}) \\mathrm{erg/s/cm^2/\\AA}$')\n"
   ]
  },
  {
   "cell_type": "markdown",
   "metadata": {},
   "source": [
    "Print out spectral line informatiion"
   ]
  },
  {
   "cell_type": "code",
   "execution_count": 17,
   "metadata": {},
   "outputs": [
    {
     "name": "stdout",
     "output_type": "stream",
     "text": [
      "Line Flux (erg/s/cm^2)   Amplitude (erg/s/cm^2)   FWHM (Angstrom)     Luminosity (erg/s)\n",
      "NIIa 1.5928079815562848e-15 2.4855953239467595e-16 6.020059586000299 9.383077606256747e+39\n",
      "H_3-2 4.569871149599114e-15 7.131336916948627e-16 6.020059586000299 2.6920668494758547e+40\n",
      "H_3-2_1 4.439595068392617e-14 5.420641198254855e-16 76.94147162741363 2.6153224713490443e+41\n",
      "NIIb 4.778423944668854e-15 7.456785971840278e-16 6.020059586000299 2.814923281877024e+40\n",
      "SIIa 1.4196357423539384e-15 2.215358036726378e-16 6.020059586000299 8.362936711371702e+39\n",
      "SIIb 1.3266718022152287e-15 2.0702867302160536e-16 6.020059586000299 7.815295140632813e+39\n"
     ]
    }
   ],
   "source": [
    "print('Line Flux (erg/s/cm^2)   Amplitude (erg/s/cm^2)' \n",
    "        '   FWHM (Angstrom)     Luminosity (erg/s)')\n",
    "\n",
    "for line in spec.measurements.lines.keys():\n",
    "    print(line, spec.measurements.lines[line]['flux'],\n",
    "            spec.measurements.lines[line]['amp'],\n",
    "            spec.measurements.lines[line]['fwhm'],\n",
    "            spec.measurements.lines[line]['lum'])"
   ]
  },
  {
   "cell_type": "markdown",
   "metadata": {},
   "source": [
    "Had we not supplied the objects redshift (or distance), the line luminosities would not have been measured, but integrated fluxes would still be derived.\n",
    "\n",
    " Also the measurements class separates the broad and narrow H-alpha components, and identifies which lines are which. How nice!"
   ]
  },
  {
   "cell_type": "code",
   "execution_count": 18,
   "metadata": {},
   "outputs": [],
   "source": [
    "spec.specfit.plot_fit()"
   ]
  },
  {
   "cell_type": "markdown",
   "metadata": {},
   "source": [
    "Save the figure."
   ]
  },
  {
   "cell_type": "code",
   "execution_count": 19,
   "metadata": {},
   "outputs": [],
   "source": [
    "spec.plotter.figure.savefig('sdss_fit_example.png')"
   ]
  }
 ],
 "metadata": {
  "kernelspec": {
   "display_name": "Python 3.10.6 64-bit",
   "language": "python",
   "name": "python3"
  },
  "language_info": {
   "codemirror_mode": {
    "name": "ipython",
    "version": 3
   },
   "file_extension": ".py",
   "mimetype": "text/x-python",
   "name": "python",
   "nbconvert_exporter": "python",
   "pygments_lexer": "ipython3",
   "version": "3.10.6"
  },
  "orig_nbformat": 4,
  "vscode": {
   "interpreter": {
    "hash": "aee8b7b246df8f9039afb4144a1f6fd8d2ca17a180786b69acc140d282b71a49"
   }
  }
 },
 "nbformat": 4,
 "nbformat_minor": 2
}
